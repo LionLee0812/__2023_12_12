{
 "cells": [
  {
   "cell_type": "code",
   "execution_count": 16,
   "metadata": {},
   "outputs": [
    {
     "name": "stdout",
     "output_type": "stream",
     "text": [
      "對邊: 2.5, 斜邊: 5.0\n",
      "弳度是: 0.524, 角度是: 30\n"
     ]
    }
   ],
   "source": [
    "#高中數學\n",
    "#讓使用者輸入直角三角形的對邊\n",
    "#讓使用者輸入直角三角形的斜邊\n",
    "#計算角度\n",
    "\n",
    "import math\n",
    "\n",
    "opposite = float(input('請輸入對邊:'))\n",
    "hypotenuse = float(input('請輸入斜邊:'))\n",
    "opposite / hypotenuse\n",
    "radian = math.asin(opposite / hypotenuse)\n",
    "degree = round(math.degrees(radian))\n",
    "print(f'對邊: {opposite}, 斜邊: {hypotenuse}')\n",
    "print(f'弳度是: {radian:.3f}, 角度是: {degree}')"
   ]
  },
  {
   "cell_type": "code",
   "execution_count": 15,
   "metadata": {},
   "outputs": [],
   "source": [
    "#大學數學(微積分)\n",
    "\n",
    "import sympy"
   ]
  }
 ],
 "metadata": {
  "kernelspec": {
   "display_name": "Python 3",
   "language": "python",
   "name": "python3"
  },
  "language_info": {
   "codemirror_mode": {
    "name": "ipython",
    "version": 3
   },
   "file_extension": ".py",
   "mimetype": "text/x-python",
   "name": "python",
   "nbconvert_exporter": "python",
   "pygments_lexer": "ipython3",
   "version": "3.10.13"
  }
 },
 "nbformat": 4,
 "nbformat_minor": 2
}
