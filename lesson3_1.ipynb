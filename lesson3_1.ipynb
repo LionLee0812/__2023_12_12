{
 "cells": [
  {
   "cell_type": "code",
   "execution_count": 1,
   "metadata": {},
   "outputs": [
    {
     "data": {
      "text/plain": [
       "0.5"
      ]
     },
     "execution_count": 1,
     "metadata": {},
     "output_type": "execute_result"
    }
   ],
   "source": [
    "#高中數學\n",
    "#讓使用者輸入直角三角形的對邊\n",
    "#讓使用者輸入直角三角形的斜邊\n",
    "#計算角度\n",
    "\n",
    "opposite = float(input('請輸入對邊:'))\n",
    "hypotenuse = float(input('請輸入斜邊:'))\n",
    "opposite / hypotenuse"
   ]
  }
 ],
 "metadata": {
  "kernelspec": {
   "display_name": "Python 3",
   "language": "python",
   "name": "python3"
  },
  "language_info": {
   "codemirror_mode": {
    "name": "ipython",
    "version": 3
   },
   "file_extension": ".py",
   "mimetype": "text/x-python",
   "name": "python",
   "nbconvert_exporter": "python",
   "pygments_lexer": "ipython3",
   "version": "3.10.13"
  }
 },
 "nbformat": 4,
 "nbformat_minor": 2
}
