{
 "cells": [
  {
   "cell_type": "code",
   "execution_count": 4,
   "metadata": {},
   "outputs": [
    {
     "name": "stdout",
     "output_type": "stream",
     "text": [
      "半徑為5的圓，面積為78.54\n"
     ]
    }
   ],
   "source": [
    "import math\n",
    "\n",
    "r = 5\n",
    "\n",
    "area = math.pi * r * r\n",
    "print(f\"半徑為{r}的圓，面積為{round(area,ndigits=2)}\")\n"
   ]
  },
  {
   "cell_type": "code",
   "execution_count": 2,
   "metadata": {},
   "outputs": [
    {
     "name": "stdout",
     "output_type": "stream",
     "text": [
      "半徑:10.8，圓面積是:366.44\n"
     ]
    }
   ],
   "source": [
    "import math\n",
    "radius = float(input(\"請輸入半徑:\"))\n",
    "area = math.pi * radius ** 2\n",
    "print(f\"半徑:{radius}，圓面積是:{round(area,ndigits=2)}\")\n"
   ]
  },
  {
   "cell_type": "code",
   "execution_count": 3,
   "metadata": {},
   "outputs": [
    {
     "name": "stdout",
     "output_type": "stream",
     "text": [
      "對邊: 3.0, 斜邊: 4.0\n",
      "弳度是: 0.848, 角度是: 48.59\n"
     ]
    }
   ],
   "source": [
    "#高中數學\n",
    "#讓使用者輸入直角三角形的對邊\n",
    "#讓使用者輸入直角三角形的斜邊\n",
    "#計算角度\n",
    "\n",
    "import math\n",
    "\n",
    "opposite = float(input('請輸入對邊:'))\n",
    "hypotenuse = float(input('請輸入斜邊:'))\n",
    "opposite / hypotenuse\n",
    "radian = math.asin(opposite / hypotenuse)\n",
    "degree = round(math.degrees(radian),ndigits=2)\n",
    "print(f'對邊: {opposite}, 斜邊: {hypotenuse}')\n",
    "print(f'弳度是: {radian:.3f}, 角度是: {degree}')"
   ]
  }
 ],
 "metadata": {
  "kernelspec": {
   "display_name": "Python 3",
   "language": "python",
   "name": "python3"
  },
  "language_info": {
   "codemirror_mode": {
    "name": "ipython",
    "version": 3
   },
   "file_extension": ".py",
   "mimetype": "text/x-python",
   "name": "python",
   "nbconvert_exporter": "python",
   "pygments_lexer": "ipython3",
   "version": "3.10.13"
  }
 },
 "nbformat": 4,
 "nbformat_minor": 2
}
