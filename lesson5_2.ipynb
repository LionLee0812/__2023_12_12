{
 "cells": [
  {
   "cell_type": "code",
   "execution_count": 2,
   "metadata": {},
   "outputs": [
    {
     "name": "stdout",
     "output_type": "stream",
     "text": [
      "1\n",
      "2\n",
      "3\n",
      "4\n",
      "5\n",
      "while迴圈結束\n"
     ]
    }
   ],
   "source": [
    "count = 1\n",
    "while count < 6:\n",
    "    print(count)\n",
    "    count += 1\n",
    "print(\"while迴圈結束\")"
   ]
  },
  {
   "cell_type": "code",
   "execution_count": 3,
   "metadata": {},
   "outputs": [
    {
     "name": "stdout",
     "output_type": "stream",
     "text": [
      "恭喜!已經存夠了，存了6個月，總存款為38000元\n"
     ]
    }
   ],
   "source": [
    "#不明確知道執行的次數\n",
    "#小明想要存錢買一輛機車,機車每輛30000元，他將每月存的錢輸入，當存款足夠買機車時，就顯示提示訊息告知。\n",
    "deposite = 0\n",
    "month = 0\n",
    "while deposite < 30000:\n",
    "    month += 1\n",
    "    input_money = int(input(f'請輸入第{month}個月的存款'))\n",
    "    deposite += input_money\n",
    "\n",
    "print(f'恭喜!已經存夠了，存了{month}個月，總存款為{deposite}元')"
   ]
  },
  {
   "cell_type": "code",
   "execution_count": 5,
   "metadata": {},
   "outputs": [
    {
     "name": "stdout",
     "output_type": "stream",
     "text": [
      "9的平方是81\n",
      "程式結束\n"
     ]
    }
   ],
   "source": [
    "#要求使用者輸入值\n",
    "#奇數輸出平方\n",
    "#偶數不做任何動作\n",
    "#'q'離開\n",
    "while True:\n",
    "    value = input(\"請輸入整數或q來離開\")\n",
    "    if value == 'q':\n",
    "        break\n",
    "    number = int(value)\n",
    "    if number % 2 == 1:\n",
    "        print(f'{number}的平方是{number**2}')\n",
    "print(\"程式結束\")"
   ]
  },
  {
   "cell_type": "code",
   "execution_count": 11,
   "metadata": {},
   "outputs": [
    {
     "ename": "TypeError",
     "evalue": "'<' not supported between instances of 'str' and 'int'",
     "output_type": "error",
     "traceback": [
      "\u001b[0;31m---------------------------------------------------------------------------\u001b[0m",
      "\u001b[0;31mTypeError\u001b[0m                                 Traceback (most recent call last)",
      "Cell \u001b[0;32mIn[11], line 10\u001b[0m\n\u001b[1;32m      8\u001b[0m     \u001b[38;5;28;01mbreak\u001b[39;00m\n\u001b[1;32m      9\u001b[0m \u001b[38;5;28mint\u001b[39m(input_value)\n\u001b[0;32m---> 10\u001b[0m \u001b[38;5;28;01mif\u001b[39;00m \u001b[43minput_value\u001b[49m\u001b[43m \u001b[49m\u001b[38;5;241;43m<\u001b[39;49m\u001b[43m \u001b[49m\u001b[38;5;241;43m0\u001b[39;49m:\n\u001b[1;32m     11\u001b[0m     \u001b[38;5;28;01mbreak\u001b[39;00m\n\u001b[1;32m     12\u001b[0m \u001b[38;5;28;01melif\u001b[39;00m input_value \u001b[38;5;241m%\u001b[39m\u001b[38;5;241m2\u001b[39m \u001b[38;5;241m==\u001b[39m \u001b[38;5;241m1\u001b[39m:\n",
      "\u001b[0;31mTypeError\u001b[0m: '<' not supported between instances of 'str' and 'int'"
     ]
    }
   ],
   "source": [
    "#請設計一個程式，讓使用者輸入數值，只有加總正偶數值，不加總正奇數值，如果輸入負數，結束程式。\n",
    "num = 0\n",
    "sum = 0\n",
    "while True:\n",
    "    num += 1\n",
    "    input_value = input(f'請輸入第{num}個數值或q來離開:')\n",
    "    if input_value == 'q':\n",
    "        break\n",
    "    int(input_value)\n",
    "    if input_value < 0:\n",
    "        break\n",
    "    elif input_value %2 == 1:\n",
    "        continue\n",
    "    else:        \n",
    "        sum += input_value\n",
    "\n",
    "print(f'所有輸入的正偶數加總為:{sum}')"
   ]
  }
 ],
 "metadata": {
  "kernelspec": {
   "display_name": "Python 3",
   "language": "python",
   "name": "python3"
  },
  "language_info": {
   "codemirror_mode": {
    "name": "ipython",
    "version": 3
   },
   "file_extension": ".py",
   "mimetype": "text/x-python",
   "name": "python",
   "nbconvert_exporter": "python",
   "pygments_lexer": "ipython3",
   "version": "3.10.13"
  }
 },
 "nbformat": 4,
 "nbformat_minor": 2
}
